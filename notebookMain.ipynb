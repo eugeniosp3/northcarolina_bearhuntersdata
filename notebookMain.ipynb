{
 "cells": [
  {
   "cell_type": "markdown",
   "id": "697a0d65-47f2-4cbc-9d22-0c341d2bc8f9",
   "metadata": {},
   "source": [
    "# What are we doing here?\n",
    "<b>Files Source:</b> https://www.ncwildlife.org/Hunting/Seasons-Limits/Harvest-Statistics#120631961-by-weapon-type\n",
    "<br><b>Install Java:</b> https://sdkman.io/install   --- \n",
    "<br>Go to SDKs and go to the bottom. Get the Zulu SDK. It will take you to their website. Get this one in the image.\n",
    "<br><img src=\"zulu.png\" width=\"400\">\n",
    "\n",
    "<!-- markdown change image size -->\n",
    "\n",
    "\n",
    "1. Writing script to change all file names to just the year and BearHarvest \"2015_BearHarvest\"\n",
    "2. Parsing the tables in both types of PDFs into a dataframe\n",
    "3. Draw analysis on these datasets\n",
    "4. Chart lines to spot trends with each weapon and see which stands out"
   ]
  },
  {
   "cell_type": "code",
   "execution_count": 24,
   "id": "2698a6ae",
   "metadata": {},
   "outputs": [],
   "source": [
    "# !pip install tabula-py pandas"
   ]
  },
  {
   "cell_type": "code",
   "execution_count": 25,
   "id": "2e99a39a-e47c-4956-a68a-2ab07b47b91b",
   "metadata": {
    "tags": []
   },
   "outputs": [],
   "source": [
    "import os\n",
    "import pandas as pd\n",
    "import tabula.io\n",
    "\n",
    "# change imagine size in markdown ![image.png](attachment:image.png)\n",
    "# change imagine size in markdown <img src=\"attachment:image.png\" width=\"400\">\n"
   ]
  },
  {
   "cell_type": "code",
   "execution_count": 26,
   "id": "d5b6a798",
   "metadata": {},
   "outputs": [],
   "source": [
    "def rename_files(currentFile):\n",
    "    # Reconstruct the filename with the underscore and corrected text\n",
    "    fileYear = currentFile[0:4]\n",
    "    # Create the full old and new file paths\n",
    "    newFileName = fileYear + \"_BearHuntingStats.pdf\"\n",
    "    # Rename the file\n",
    "    print(\"Renaming \" + currentFile + \" to \" + newFileName)\n",
    "    os.rename(currentFile, newFileName)\n"
   ]
  },
  {
   "cell_type": "code",
   "execution_count": 27,
   "id": "21042c88-ed6a-4e8f-87bd-b679b308d29c",
   "metadata": {},
   "outputs": [
    {
     "data": {
      "text/plain": [
       "['2015_BearHuntingStats.pdf',\n",
       " '2016_BearHuntingStats.pdf',\n",
       " '2017_BearHuntingStats.pdf',\n",
       " '2018_BearHuntingStats.pdf',\n",
       " '2020_BearHuntingStats.pdf',\n",
       " '2021_BearHuntingStats.pdf',\n",
       " '2022_BearHuntingStats.pdf']"
      ]
     },
     "execution_count": 27,
     "metadata": {},
     "output_type": "execute_result"
    }
   ],
   "source": [
    "pdfs = [x for x in sorted(os.listdir()) if '.pdf' in x.lower()]\n",
    "pdfs"
   ]
  },
  {
   "cell_type": "code",
   "execution_count": 28,
   "id": "764439a8",
   "metadata": {},
   "outputs": [
    {
     "name": "stdout",
     "output_type": "stream",
     "text": [
      "Renaming 2015_BearHuntingStats.pdf to 2015_BearHuntingStats.pdf\n",
      "Renaming 2016_BearHuntingStats.pdf to 2016_BearHuntingStats.pdf\n",
      "Renaming 2017_BearHuntingStats.pdf to 2017_BearHuntingStats.pdf\n",
      "Renaming 2018_BearHuntingStats.pdf to 2018_BearHuntingStats.pdf\n",
      "Renaming 2020_BearHuntingStats.pdf to 2020_BearHuntingStats.pdf\n",
      "Renaming 2021_BearHuntingStats.pdf to 2021_BearHuntingStats.pdf\n",
      "Renaming 2022_BearHuntingStats.pdf to 2022_BearHuntingStats.pdf\n"
     ]
    },
    {
     "data": {
      "text/plain": [
       "[None, None, None, None, None, None, None]"
      ]
     },
     "execution_count": 28,
     "metadata": {},
     "output_type": "execute_result"
    }
   ],
   "source": [
    "# apply the function to the list of file names in the directory\n",
    "list(map(rename_files, pdfs))"
   ]
  },
  {
   "cell_type": "code",
   "execution_count": 29,
   "id": "8c9c0e38",
   "metadata": {},
   "outputs": [
    {
     "data": {
      "text/plain": [
       "['2015_BearHuntingStats.pdf',\n",
       " '2016_BearHuntingStats.pdf',\n",
       " '2017_BearHuntingStats.pdf',\n",
       " '2018_BearHuntingStats.pdf',\n",
       " '2020_BearHuntingStats.pdf',\n",
       " '2021_BearHuntingStats.pdf',\n",
       " '2022_BearHuntingStats.pdf']"
      ]
     },
     "execution_count": 29,
     "metadata": {},
     "output_type": "execute_result"
    }
   ],
   "source": [
    "newPdfs = [x for x in sorted(os.listdir()) if '.pdf' in x.lower()]\n",
    "newPdfs"
   ]
  },
  {
   "cell_type": "code",
   "execution_count": 35,
   "id": "f8020da2",
   "metadata": {
    "tags": []
   },
   "outputs": [],
   "source": [
    "# read in the first pdf of the pdfs list as a dataframe\n",
    "df = tabula.io.read_pdf(newPdfs[0], pages='all')\n",
    "# having issues when this read happens. the column names are being compressed into just 1 column\n",
    "columnNamesTo16 = [\n",
    "    \"County\", \"BowAndArrow\", \"Crossbow\", \"Gun\", \"Muzzleloader\", \"Unknown\", \"Total\"\n",
    "]\n",
    "columnNames17Plus = [\n",
    "    \"County\", \"BowAndArrow\", \"Crossbow\", \"Gun\", \"Muzzleloader\", \"Total\"\n",
    "]\n",
    "\n",
    "pdfYear = [2015, 2016, 2017, 2018, 2019, 2020, 2021, 2022]\n",
    "dfs = []\n",
    "for i,pdf in enumerate(newPdfs):\n",
    "    yearOn = pdfYear[i]\n",
    "    if yearOn <= 2016:\n",
    "        dfNow = pd.concat(tabula.read_pdf(pdf, pages='all', pandas_options={'names': columnNamesTo16}), axis=0)\n",
    "        dfNow[\"Year\"] = yearOn\n",
    "        dfs.append(dfNow)\n",
    "    else:\n",
    "        dfNow = pd.concat(tabula.read_pdf(pdf, pages='all', pandas_options={'names': columnNames17Plus}), axis=0)\n",
    "        dfNow[\"Year\"] = yearOn\n",
    "        dfs.append(dfNow)\n",
    "\n",
    "concdf = pd.concat(dfs, axis=0)\n",
    "\n"
   ]
  },
  {
   "cell_type": "code",
   "execution_count": 43,
   "id": "ad4eb594",
   "metadata": {},
   "outputs": [],
   "source": [
    "concdf.sort_values(by=['County', 'Year']).to_csv(\"BearHuntingStats.csv\", index=False)"
   ]
  },
  {
   "cell_type": "code",
   "execution_count": null,
   "id": "535ce44e",
   "metadata": {},
   "outputs": [],
   "source": []
  }
 ],
 "metadata": {
  "kernelspec": {
   "display_name": "Python 3 (ipykernel)",
   "language": "python",
   "name": "python3"
  },
  "language_info": {
   "codemirror_mode": {
    "name": "ipython",
    "version": 3
   },
   "file_extension": ".py",
   "mimetype": "text/x-python",
   "name": "python",
   "nbconvert_exporter": "python",
   "pygments_lexer": "ipython3",
   "version": "3.11.5"
  }
 },
 "nbformat": 4,
 "nbformat_minor": 5
}
